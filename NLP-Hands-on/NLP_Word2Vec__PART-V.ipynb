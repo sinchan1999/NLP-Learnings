{
 "cells": [
  {
   "cell_type": "code",
   "execution_count": 1,
   "id": "f8e4a456",
   "metadata": {},
   "outputs": [
    {
     "name": "stderr",
     "output_type": "stream",
     "text": [
      "c:\\users\\sinchan\\appdata\\local\\programs\\python\\python39\\lib\\site-packages\\gensim\\similarities\\__init__.py:15: UserWarning: The gensim.similarities.levenshtein submodule is disabled, because the optional Levenshtein package <https://pypi.org/project/python-Levenshtein/> is unavailable. Install Levenhstein (e.g. `pip install python-Levenshtein`) to suppress this warning.\n",
      "  warnings.warn(msg)\n"
     ]
    }
   ],
   "source": [
    "import nltk\n",
    "import re\n",
    "\n",
    "from gensim.models import Word2Vec\n",
    "from nltk.corpus import stopwords\n",
    "\n",
    "\n",
    "paragraph = \"\"\"I have three visions for India. In 3000 years of our history, people from all over \n",
    "               the world have come and invaded us, captured our lands, conquered our minds. \n",
    "               From Alexander onwards, the Greeks, the Turks, the Moguls, the Portuguese, the British,\n",
    "               the French, the Dutch, all of them came and looted us, took over what was ours. \n",
    "               Yet we have not done this to any other nation. We have not conquered anyone. \n",
    "               We have not grabbed their land, their culture, \n",
    "               their history and tried to enforce our way of life on them. \n",
    "               Why? Because we respect the freedom of others.That is why my \n",
    "               first vision is that of freedom. I believe that India got its first vision of \n",
    "               this in 1857, when we started the War of Independence. It is this freedom that\n",
    "               we must protect and nurture and build on. If we are not free, no one will respect us.\n",
    "               My second vision for India’s development. For fifty years we have been a developing nation.\n",
    "               It is time we see ourselves as a developed nation. We are among the top 5 nations of the world\n",
    "               in terms of GDP. We have a 10 percent growth rate in most areas. Our poverty levels are falling.\n",
    "               Our achievements are being globally recognised today. Yet we lack the self-confidence to\n",
    "               see ourselves as a developed nation, self-reliant and self-assured. Isn’t this incorrect?\n",
    "               I have a third vision. India must stand up to the world. Because I believe that unless India \n",
    "               stands up to the world, no one will respect us. Only strength respects strength. We must be \n",
    "               strong not only as a military power but also as an economic power. Both must go hand-in-hand. \n",
    "               My good fortune was to have worked with three great minds. Dr. Vikram Sarabhai of the Dept. of \n",
    "               space, Professor Satish Dhawan, who succeeded him and Dr. Brahm Prakash, father of nuclear material.\n",
    "               I was lucky to have worked with all three of them closely and consider this the great opportunity of my life. \n",
    "               I see four milestones in my career\"\"\"\n",
    "\n",
    "\n",
    "\n",
    "# Preprocessing the data (Its can be done like previous way also)\n",
    "text = re.sub(r'\\[[0-9]*\\]',' ',paragraph)\n",
    "text = re.sub(r'\\s+',' ',text)\n",
    "text = text.lower()\n",
    "text = re.sub(r'\\d',' ',text)\n",
    "text = re.sub(r'\\s+',' ',text)\n",
    "\n",
    "# Preparing the dataset\n",
    "sentences = nltk.sent_tokenize(text)\n",
    "\n",
    "sentences = [nltk.word_tokenize(sentence) for sentence in sentences]\n",
    "\n",
    "for i in range(len(sentences)):\n",
    "    sentences[i] = [word for word in sentences[i] if word not in stopwords.words('english')]\n",
    "    \n",
    "    "
   ]
  },
  {
   "cell_type": "markdown",
   "id": "f910a417",
   "metadata": {},
   "source": [
    "# Word2Vec"
   ]
  },
  {
   "cell_type": "code",
   "execution_count": 2,
   "id": "49c6ae36",
   "metadata": {},
   "outputs": [],
   "source": [
    "# Training the Word2Vec model\n",
    "model = Word2Vec(sentences, min_count=1)"
   ]
  },
  {
   "cell_type": "code",
   "execution_count": 4,
   "id": "5b4d9cee",
   "metadata": {},
   "outputs": [],
   "source": [
    "#All the vocabularies of the words found\n",
    "words = model.wv.key_to_index "
   ]
  },
  {
   "cell_type": "code",
   "execution_count": 6,
   "id": "0f57cad1",
   "metadata": {},
   "outputs": [
    {
     "data": {
      "text/plain": [
       "array([-0.00219905, -0.00970885,  0.00929075,  0.00203636, -0.00116388,\n",
       "       -0.00551955, -0.0085126 , -0.00989383,  0.00894091, -0.00250522,\n",
       "        0.00459427, -0.00452481,  0.00995189,  0.00366171,  0.00103129,\n",
       "       -0.00403834,  0.00122027, -0.00265451,  0.00735284,  0.00447542,\n",
       "        0.00099955,  0.0034782 ,  0.00372712, -0.00680036,  0.00893242,\n",
       "        0.00173499, -0.00579935,  0.00866838, -0.00129286,  0.00818304,\n",
       "       -0.0014927 ,  0.00698649,  0.00273452, -0.00436226, -0.00374683,\n",
       "        0.00919046,  0.00159645, -0.00599784,  0.00034776, -0.00195135,\n",
       "        0.00159242, -0.00771525,  0.00738298,  0.00131083,  0.00787099,\n",
       "        0.00445568, -0.00439675,  0.00376054, -0.0006357 , -0.00984484,\n",
       "        0.00825004,  0.00964326,  0.00965426, -0.00379659, -0.00844202,\n",
       "        0.00483581, -0.00765107,  0.00853567,  0.00275977,  0.00560496,\n",
       "        0.00611362,  0.00046455, -0.00209463,  0.000778  ,  0.00983559,\n",
       "       -0.00711718, -0.00155744, -0.00235984,  0.00487084,  0.00645515,\n",
       "       -0.0041403 ,  0.00361816, -0.00447258,  0.00326611,  0.0081738 ,\n",
       "        0.00361967, -0.0045711 , -0.00301938,  0.00787179,  0.00959686,\n",
       "        0.00580789, -0.00326881, -0.00183876, -0.00624998, -0.00429521,\n",
       "        0.00336554, -0.00648911, -0.00661903,  0.00811393,  0.00950739,\n",
       "        0.00814451,  0.00150699, -0.00880125, -0.00759764,  0.0015789 ,\n",
       "       -0.00952675, -0.00741688,  0.00203283, -0.00292885, -0.00916266],\n",
       "      dtype=float32)"
      ]
     },
     "execution_count": 6,
     "metadata": {},
     "output_type": "execute_result"
    }
   ],
   "source": [
    "# Finding Word Vectors\n",
    "vector = model.wv['war']\n",
    "vector"
   ]
  },
  {
   "cell_type": "code",
   "execution_count": 7,
   "id": "d3e3571d",
   "metadata": {},
   "outputs": [
    {
     "data": {
      "text/plain": [
       "[('visions', 0.18146508932113647),\n",
       " ('growth', 0.1663494110107422),\n",
       " ('one', 0.1643451601266861),\n",
       " ('took', 0.1643296480178833),\n",
       " (',', 0.15887504816055298),\n",
       " ('fifty', 0.1472669392824173),\n",
       " ('developing', 0.14714017510414124),\n",
       " ('worked', 0.13810548186302185),\n",
       " ('development', 0.1376984417438507),\n",
       " ('time', 0.13293510675430298)]"
      ]
     },
     "execution_count": 7,
     "metadata": {},
     "output_type": "execute_result"
    }
   ],
   "source": [
    "# Most similar words\n",
    "similar = model.wv.most_similar('vikram')\n",
    "similar"
   ]
  },
  {
   "cell_type": "code",
   "execution_count": null,
   "id": "0d15c665",
   "metadata": {},
   "outputs": [],
   "source": []
  }
 ],
 "metadata": {
  "kernelspec": {
   "display_name": "Python 3",
   "language": "python",
   "name": "python3"
  },
  "language_info": {
   "codemirror_mode": {
    "name": "ipython",
    "version": 3
   },
   "file_extension": ".py",
   "mimetype": "text/x-python",
   "name": "python",
   "nbconvert_exporter": "python",
   "pygments_lexer": "ipython3",
   "version": "3.9.4"
  }
 },
 "nbformat": 4,
 "nbformat_minor": 5
}
